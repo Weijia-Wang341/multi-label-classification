{
 "cells": [
  {
   "cell_type": "code",
   "execution_count": null,
   "metadata": {
    "vscode": {
     "languageId": "plaintext"
    }
   },
   "outputs": [],
   "source": [
    "#question: What changes have you observed in the city over the years, and how do you feel about them? How do you think the city's identity will evolve in the next decade?\n",
    "#reference: https://stackabuse.com/python-for-nlp-multi-label-text-classification-with-keras/"
   ]
  },
  {
   "cell_type": "code",
   "execution_count": null,
   "metadata": {
    "vscode": {
     "languageId": "plaintext"
    }
   },
   "outputs": [],
   "source": [
    "#concern, hope, frustration, positive, potential, struggleing, unsafe"
   ]
  }
 ],
 "metadata": {
  "language_info": {
   "name": "python"
  }
 },
 "nbformat": 4,
 "nbformat_minor": 2
}
